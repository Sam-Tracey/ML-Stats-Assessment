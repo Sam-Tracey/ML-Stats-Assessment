{
 "cells": [
  {
   "cell_type": "markdown",
   "id": "075db70c-c575-4d9d-a731-2e1b3bc41dd6",
   "metadata": {},
   "source": [
    "<center><img src = \"practicals/Images/ATU_Logo.jpg\"></center>"
   ]
  },
  {
   "cell_type": "markdown",
   "id": "9f0747b7-de4f-4d57-a616-a160058d287e",
   "metadata": {},
   "source": [
    "<h2 style=\"color: #001a79;\">Author: Sam Tracey</h2>\n",
    "<h2 style=\"color: #001a79;\">Assessment</h2>\n",
    "<h2 style=\"color: #001a79;\">Time Series Anomaly Detection with Keras.</h2>\n",
    "<h2 style=\"color: #001a79;\">https://keras.io/examples/timeseries/timeseries_anomaly_detection/</h2>\n",
    "<hr style=\"border-top: 1px solid #001a79;\" />\n",
    "\n"
   ]
  },
  {
   "cell_type": "code",
   "execution_count": null,
   "id": "43089c49-9db5-4539-84c2-baa917e725b3",
   "metadata": {},
   "outputs": [],
   "source": []
  }
 ],
 "metadata": {
  "kernelspec": {
   "display_name": "Python 3 (ipykernel)",
   "language": "python",
   "name": "python3"
  },
  "language_info": {
   "codemirror_mode": {
    "name": "ipython",
    "version": 3
   },
   "file_extension": ".py",
   "mimetype": "text/x-python",
   "name": "python",
   "nbconvert_exporter": "python",
   "pygments_lexer": "ipython3",
   "version": "3.9.7"
  }
 },
 "nbformat": 4,
 "nbformat_minor": 5
}
