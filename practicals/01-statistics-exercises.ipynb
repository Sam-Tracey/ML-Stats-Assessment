{
 "cells": [
  {
   "cell_type": "markdown",
   "id": "5af35785-1e07-48d8-9ca2-36d155fe7b74",
   "metadata": {},
   "source": [
    "<center><img src = \"Images/ATU_Logo.jpg\"></center>"
   ]
  },
  {
   "cell_type": "markdown",
   "id": "678d6278-194d-4dec-a233-af0193536529",
   "metadata": {
    "tags": []
   },
   "source": [
    "<h2 style=\"color: #001a79;\">Author: Sam Tracey</h2>\n",
    "<h2 style=\"color: #001a79;\">Module: Machine Learning and Statistics</h2>\n",
    "<h2 style=\"color: #001a79;\">Topic 1. Statistics.</h2>\n",
    "\n",
    "<hr style=\"border-top: 1px solid #001a79;\" />\n",
    "\n"
   ]
  },
  {
   "cell_type": "markdown",
   "id": "40c19187-8fdc-4809-b441-c6a350c5cd2b",
   "metadata": {},
   "source": [
    "<h2 style=\"color: rgb(0, 91, 94);\">Lady Tasting Tea</h2>\n",
    "\n",
    "<hr style=\"border-top: 1px solid rgb(0, 91, 94);\" />\n",
    "\n",
    "<img src=\"https://upload.wikimedia.org/wikipedia/commons/a/aa/Youngronaldfisher2.JPG\" style=\"border: 1px solid #ff791e\" width=\"200px\">\n",
    "\n",
    "The Lady Tasting Tea problem was first described by <a href=\"http://www-history.mcs.st-andrews.ac.uk/Biographies/Fisher.html\" style=\"color: #ff791e\">Ronald A. Fisher</a> in his book The Design of Experiments.\n",
    "\n",
    "He described the problem as follows.\n",
    "\n",
    "> A lady declares that by tasting a cup of tea made with milk she can discriminate whether the milk or the tea infusion was first added to the cup: We will consider the problem of designing an experiment by means of which this assertion can be tested. For this purpose let us first lay down a simple form of experiment with a view to studying its limitations and its characteristics, both those which appear to be essential to the experimental method, when well developed, and those which are not essential but auxiliary.\n",
    "\n",
    "> Our experiment consists in mixing eight cups of tea, four in one way and four in the other, and presenting them to the subject for judgment in a random order. The subject has been told in advance of what the test will consist, namely that she will be asked to taste eight cups, that these shall be four of each kind, and that they shall be presented to her in a random order, that is in an order not determined arbitrarily by human choice, but by the actual manipulation of the physical apparatus used in games of chance, cards, dice, roulettes, etc., or, more expeditiously, from a published collection of random sampling numbers purporting to give the actual results of such manipulation. Her task is to divide the 8 cups into two sets of 4, agreeing, if possible, with the treatments received."
   ]
  },
  {
   "cell_type": "markdown",
   "id": "2e32284c-0d8d-4165-a1dc-7cefc6dfcfb3",
   "metadata": {},
   "source": [
    "<h2 style=\"color: rgb(0, 91, 94);\">Hypotheses</h2>\n",
    "\n",
    "<hr style=\"border-top: 1px solid rgb(0, 91, 94);\" />\n",
    "\n",
    "In the book, Fisher describes the *null hypothesis*.\n",
    "\n",
    "It is the statement to be countered by the experiment.\n",
    "\n",
    "In this case it is the hypothesis that the subject cannot tell the difference between a cup of tea that had milk in it first and one that had the tea in it first.\n",
    "\n",
    "<br>\n",
    "\n",
    "**Null Hypothesis:** the subject can not tell if the cup had milk in it first or last.\n",
    "\n",
    "<br>\n",
    "\n",
    "Once we collect the experimental data we evaluate how likely we were to see such data if the null hypothesis is true.\n",
    "\n",
    "If it is very unlikely, then we may reject the null hypothesis.\n",
    "\n",
    "Typically we have an alternative hypothesis that we suggest rejecting the null hypothesis is evidence for.\n",
    "\n",
    "<br>\n",
    "\n",
    "**Alternative Hypothesis:** the subject can tell.\n",
    "\n",
    "<br>\n",
    "\n",
    "Should the subject pick the correct four cups with milk in them first, there is only a 1 in 70 (~1.4%) chance of them having done that if they were simply guessing.\n",
    "\n",
    "Fisher considered that unlikely enough to reject the null hypothesis if they manage it."
   ]
  },
  {
   "cell_type": "code",
   "execution_count": 1,
   "id": "88d3d5b6-824f-4649-916b-6bb67321d2f2",
   "metadata": {},
   "outputs": [
    {
     "data": {
      "text/plain": [
       "0.014285714285714285"
      ]
     },
     "execution_count": 1,
     "metadata": {},
     "output_type": "execute_result"
    }
   ],
   "source": [
    "# Only one of the 70 randomly selected possibilities is the desired result.\n",
    "1 / 70"
   ]
  },
  {
   "cell_type": "markdown",
   "id": "880a0949-a89c-429d-bf1c-73d9371176a3",
   "metadata": {
    "tags": []
   },
   "source": [
    "<h3 style=\"color: #001a79;\">Exercise 1.1</h3>\n",
    "\n",
    "<hr style=\"border-top: 1px solid #001a79;\" />\n",
    "\n",
    "The above gives about a 1.5% chance of randomly selecting the correct cups. Calculate the minimum number of cups of tea required to ensure the probability of randomly selecting the correct cups is less than or equal to 1%.\n",
    "\n"
   ]
  },
  {
   "cell_type": "code",
   "execution_count": 2,
   "id": "5fac67e8-f306-442b-a425-8428716c4e8d",
   "metadata": {},
   "outputs": [],
   "source": [
    "# The following code is adapted from this StackOverflow link: https://stackoverflow.com/a/4941932"
   ]
  },
  {
   "cell_type": "code",
   "execution_count": 3,
   "id": "6ea05ebc-b539-4c10-adf6-c712b81af60b",
   "metadata": {},
   "outputs": [],
   "source": [
    "# Importing Necessary Modules\n",
    "import math\n",
    "import pandas as pd\n",
    "import seaborn as sns\n",
    "import matplotlib.pyplot as plt\n",
    "\n",
    "# Nicer colours and styles for plots.\n",
    "plt.style.use(\"ggplot\")\n",
    "plt.rcParams['figure.figsize'] = (10, 7)\n",
    "plt.rcParams['figure.dpi'] = 80"
   ]
  },
  {
   "cell_type": "markdown",
   "id": "27c7ab70-6b45-4c10-aa5c-01edd2eaa1de",
   "metadata": {},
   "source": [
    "We know from our previous work that selecting four cups correctly from 8 cups in total has a probability of 0.0143 (1.43%)"
   ]
  },
  {
   "cell_type": "code",
   "execution_count": 4,
   "id": "20369e44-5af8-4640-9ae5-3efebe753f99",
   "metadata": {},
   "outputs": [
    {
     "data": {
      "text/plain": [
       "0.014285714285714285"
      ]
     },
     "execution_count": 4,
     "metadata": {},
     "output_type": "execute_result"
    }
   ],
   "source": [
    "# Number of ways of selecting 4 cups from 8.\n",
    "1.0 / math.comb(8, 4)"
   ]
  },
  {
   "cell_type": "markdown",
   "id": "22657662-0d70-4d0b-9a95-86fcfdc05c07",
   "metadata": {},
   "source": [
    "We can use a simple nested for loop in conjunction with the <code>math.comb</code> function to calculate the probabilities for a range of scenarios. In this example I have limited the range of \"cups\" between 1 and 12 as we are only interested in finding the *minimum* number of cups required to deliver a probability of < 1%."
   ]
  },
  {
   "cell_type": "code",
   "execution_count": 5,
   "id": "7cd3fb92-f316-48db-87ae-8fed842c126a",
   "metadata": {
    "scrolled": true,
    "tags": []
   },
   "outputs": [
    {
     "name": "stdout",
     "output_type": "stream",
     "text": [
      "Probability of selecting 4 cups from 9 is 0.007936507936507936\n",
      "Probability of selecting 5 cups from 9 is 0.007936507936507936\n",
      "Probability of selecting 3 cups from 10 is 0.008333333333333333\n",
      "Probability of selecting 4 cups from 10 is 0.004761904761904762\n",
      "Probability of selecting 5 cups from 10 is 0.003968253968253968\n",
      "Probability of selecting 6 cups from 10 is 0.004761904761904762\n",
      "Probability of selecting 7 cups from 10 is 0.008333333333333333\n",
      "Probability of selecting 3 cups from 11 is 0.006060606060606061\n",
      "Probability of selecting 4 cups from 11 is 0.0030303030303030303\n",
      "Probability of selecting 5 cups from 11 is 0.0021645021645021645\n",
      "Probability of selecting 6 cups from 11 is 0.0021645021645021645\n",
      "Probability of selecting 7 cups from 11 is 0.0030303030303030303\n",
      "Probability of selecting 8 cups from 11 is 0.006060606060606061\n"
     ]
    }
   ],
   "source": [
    "# Initialize a new list and use a nested for loop to calculate probabilities for each combination.\n",
    "# Only return probabilities < 0.01.\n",
    "rows = []\n",
    "for i in range(1, 12):\n",
    "    for j in range (1, 12):\n",
    "        if j <= i:\n",
    "            prob = (1.0 / math.comb(i, j))\n",
    "            if prob <= 0.01:\n",
    "                print(f'Probability of selecting {j} cups from {i} is {prob}')\n",
    "                rows.append([j, i, prob])"
   ]
  },
  {
   "cell_type": "markdown",
   "id": "f839a241-a264-406b-bfba-b754277f62af",
   "metadata": {},
   "source": [
    "<div class=\"admonition note alert alert-info\">\n",
    "<p class=\"first admonition-title\" style=\"font-weight: bold;\">1.1 Answer</p>\n",
    "\n",
    "As we can see, the actual minimum number of cups required to return a probability of < 1% (0.01) is 9 cups in total.\n",
    "\n",
    "</div>\n",
    "\n",
    "\n"
   ]
  },
  {
   "cell_type": "markdown",
   "id": "530e219f-eaea-4d36-9dc6-39c6a197b3cf",
   "metadata": {},
   "source": [
    "*Bonus:* How many would be required if you were to let the taster get one cup wrong while maintaining the 1% threshold?"
   ]
  },
  {
   "cell_type": "markdown",
   "id": "8ebc2980-23de-4a4b-85ed-ede8d4932c4e",
   "metadata": {},
   "source": [
    "This answer is based on the discussion of Fisher's Lady Tasting Tea Experiment at: https://www.stat.berkeley.edu/~stark/Teach/S240/Notes/ch3.htm<br>\n",
    "> A test that rejects the null hypothesis only when she matches all 8 cups has significance level 1/70 = 1.4%. If she misses one cup, she must in fact miss at least two, because she will have mislabeled a milk-first as tea-first, and vice versa. The possible numbers of \"hits\" are 0, 2, 4, 6, and 8. To get 6 hits, she must label as milk-first three of the four true milk-first cups, and must mislabel as milk-first one of the four tea-first cups. The number of arrangements that give exactly 6 hits is thus\n",
    "\n",
    "> 4C3×4C1 = 16."
   ]
  },
  {
   "cell_type": "code",
   "execution_count": 6,
   "id": "45166773-ed8c-47ac-a8b7-60c2a5ab25be",
   "metadata": {},
   "outputs": [
    {
     "data": {
      "text/plain": [
       "0.0625"
      ]
     },
     "execution_count": 6,
     "metadata": {},
     "output_type": "execute_result"
    }
   ],
   "source": [
    "# The probability of the lady getting 3 correct guesses and 1 correct from 8 cups is 6.25%:\n",
    "1 / (math.comb(4, 3) * math.comb(4, 1))"
   ]
  },
  {
   "cell_type": "code",
   "execution_count": 7,
   "id": "02419fdf-c30c-4912-b2fe-7018bc11c7e5",
   "metadata": {},
   "outputs": [
    {
     "name": "stdout",
     "output_type": "stream",
     "text": [
      "Cups with milk first: 10. Correct Cups identified: 9. Probability: 0.01\n",
      "Cups with milk first: 11. Correct Cups identified: 10. Probability: 0.008264462809917356\n",
      "Cups with milk first: 12. Correct Cups identified: 11. Probability: 0.006944444444444444\n",
      "Cups with milk first: 13. Correct Cups identified: 12. Probability: 0.005917159763313609\n",
      "Cups with milk first: 14. Correct Cups identified: 13. Probability: 0.00510204081632653\n",
      "Cups with milk first: 15. Correct Cups identified: 14. Probability: 0.0044444444444444444\n",
      "Cups with milk first: 16. Correct Cups identified: 15. Probability: 0.00390625\n",
      "Cups with milk first: 17. Correct Cups identified: 16. Probability: 0.0034602076124567475\n",
      "Cups with milk first: 18. Correct Cups identified: 17. Probability: 0.0030864197530864196\n",
      "Cups with milk first: 19. Correct Cups identified: 18. Probability: 0.002770083102493075\n"
     ]
    }
   ],
   "source": [
    "# Create a for loop to calculate probabilities when one cup is identified incorrectly.\n",
    "rows = []\n",
    "for i in range(1, 20):\n",
    "    prob = (1.0 / (math.comb(i, i-1) * math.comb(i, 1)))\n",
    "    if prob <= 0.01:\n",
    "        print(f'Cups with milk first: {i}. Correct Cups identified: {i-1}. Probability: {prob}')\n",
    "                "
   ]
  },
  {
   "cell_type": "markdown",
   "id": "88a19e61-69be-4f67-94fc-1f7505fd0272",
   "metadata": {},
   "source": [
    "<div class=\"admonition note alert alert-info\">\n",
    "<p class=\"first admonition-title\" style=\"font-weight: bold;\">1.1 Bonus Answer</p>\n",
    "\n",
    "To maintain the 1% threshold the experiment would require 20 cups. From the 10 cups with milk added first, the lady would be able to incorrectly label one of them.\n",
    "\n",
    "</div>\n",
    "\n",
    "\n"
   ]
  },
  {
   "cell_type": "markdown",
   "id": "9d070c25-54ce-4934-8e7b-6039254ba93c",
   "metadata": {
    "tags": []
   },
   "source": [
    "<h3 style=\"color: #001a79;\">Exercise 1.2</h3>\n",
    "\n",
    "<hr style=\"border-top: 1px solid #001a79;\" />\n",
    "\n",
    "\n",
    "Use <a href=\"https://docs.scipy.org/doc/scipy/reference/generated/scipy.stats.fisher_exact.html\" style=\"color: #ff791e\">scipy's version of Fisher's exact test</a> to simulate the Lady Tasting Tea problem."
   ]
  },
  {
   "cell_type": "code",
   "execution_count": 8,
   "id": "97fe5e2a-ab7a-4759-9b1b-3a5025127313",
   "metadata": {},
   "outputs": [],
   "source": [
    "# Statistical methods\n",
    "import scipy.stats as ss"
   ]
  },
  {
   "cell_type": "markdown",
   "id": "78420213-acbf-4c8b-84f0-8cefd10a0010",
   "metadata": {},
   "source": [
    "We can visualise the contingency table as follows:\n",
    "\n",
    "\n",
    "\n",
    "|    | Tea | Milk |\n",
    "|----|-----|------|\n",
    "|**Tea** | 4   | 0    |\n",
    "|**Milk**| 0   | 4    |\n",
    "\n"
   ]
  },
  {
   "cell_type": "code",
   "execution_count": 9,
   "id": "dc47c157-4c8a-4b0a-9c30-51ea350c1147",
   "metadata": {},
   "outputs": [],
   "source": [
    "# Create a table based on contingency table above.\n",
    "results = ([[4,0], [0,4]])"
   ]
  },
  {
   "cell_type": "code",
   "execution_count": 10,
   "id": "42b84e7d-9da3-4090-866c-30222453db8d",
   "metadata": {},
   "outputs": [
    {
     "data": {
      "text/plain": [
       "0.028571428571428536"
      ]
     },
     "execution_count": 10,
     "metadata": {},
     "output_type": "execute_result"
    }
   ],
   "source": [
    "# Perform Fisher's Exact Test.\n",
    "oddsratio, pvalue = ss.fisher_exact(results)\n",
    "pvalue"
   ]
  },
  {
   "cell_type": "markdown",
   "id": "178e62d8-f57c-4072-9320-1b3bd243dccf",
   "metadata": {},
   "source": [
    "***\n",
    "<div class=\"admonition note alert alert-info\">\n",
    "<p class=\"first admonition-title\" style=\"font-weight: bold;\">Why is our probability exactly double?</p>\n",
    "\n",
    "You can see when we run the <code>Fisher_exact</code> test as shown in the Scipy documentation we generate a p-value exactly double what we have calculated previously.<br>\n",
    "Remember the probability of guessing the correct four cups of tea from a set of eight is 1/70 or 0.0142857.<br>\n",
    "When we run the <code>Fisher_exact</code> without specifying an alternate hypothesis, Scipy defaults to a \"two-sided\" test.<br>\n",
    "<br>\n",
    "**Why is this an issue?**<br>\n",
    "<br>\n",
    "From the Scipy documentation:\n",
    "> *The two-sided p-value is the probability that, under the null hypothesis,<br>\n",
    "a random table would have a probability equal to or less than the probability of the input table.*<br>\n",
    "<br>\n",
    "\n",
    "However, as we are about to show, there are actually two possible combinations where the probability of attaining either one is less than or equal to the probability of the input table: [4, 0], [0, 4].\n",
    "\n",
    "</div>"
   ]
  },
  {
   "cell_type": "code",
   "execution_count": 11,
   "id": "0487900e-03a8-4560-9611-c5620b16d656",
   "metadata": {},
   "outputs": [],
   "source": [
    "# Calculate the probability of each possible table in a set of 2 x 2 tables.\n",
    "# Blatantly stolen from: https://docs.scipy.org/doc/scipy/reference/generated/scipy.stats.fisher_exact.html\n",
    "from scipy.stats import hypergeom\n",
    "import numpy as np\n",
    "table = np.array([[4, 0], [0, 4]])\n",
    "M = table.sum()\n",
    "n = table[0].sum()\n",
    "N = table[:, 0].sum()\n",
    "start, end = hypergeom.support(M, n, N)"
   ]
  },
  {
   "cell_type": "code",
   "execution_count": 12,
   "id": "5fff5506-4ca4-4c7a-9047-7c27e87d343e",
   "metadata": {},
   "outputs": [],
   "source": [
    "# Import pandas for data manipulation & analysis.\n",
    "import pandas as pd"
   ]
  },
  {
   "cell_type": "code",
   "execution_count": 13,
   "id": "88faa0da-1ad5-42b3-9576-a8dde688fbf6",
   "metadata": {},
   "outputs": [],
   "source": [
    "# Assign probabilities to array titled probs.\n",
    "probs = (hypergeom.pmf(np.arange(start, end+1), M, n, N))"
   ]
  },
  {
   "cell_type": "code",
   "execution_count": 14,
   "id": "3f052947-69ba-45a0-8e25-9b80385ad9fe",
   "metadata": {},
   "outputs": [],
   "source": [
    "# Create dataframe using results array and add column headers.\n",
    "prob_df = pd.DataFrame([(i, j) for i, j in enumerate(probs)], columns=['Correct', 'Probability'])"
   ]
  },
  {
   "cell_type": "code",
   "execution_count": 15,
   "id": "6eedbae1-d48b-435f-9928-0f03d5b8c6be",
   "metadata": {},
   "outputs": [
    {
     "name": "stdout",
     "output_type": "stream",
     "text": [
      "The probability of the lady getting 0 out of 4 cups correct is 0.014285714285714268\n",
      "The probability of the lady getting 1 out of 4 cups correct is 0.22857142857142837\n",
      "The probability of the lady getting 2 out of 4 cups correct is 0.5142857142857145\n",
      "The probability of the lady getting 3 out of 4 cups correct is 0.22857142857142837\n",
      "The probability of the lady getting 4 out of 4 cups correct is 0.014285714285714268\n"
     ]
    }
   ],
   "source": [
    "# Loop over the number of correct cases (0-4) and the results array:\n",
    "for i, j in zip(range(0, 5), probs):\n",
    "    # Print out the probabilities for each result:\n",
    "    print(f'The probability of the lady getting {i} out of 4 cups correct is {j}')"
   ]
  },
  {
   "cell_type": "code",
   "execution_count": 42,
   "id": "50857897",
   "metadata": {},
   "outputs": [
    {
     "data": {
      "text/html": [
       "<div>\n",
       "<style scoped>\n",
       "    .dataframe tbody tr th:only-of-type {\n",
       "        vertical-align: middle;\n",
       "    }\n",
       "\n",
       "    .dataframe tbody tr th {\n",
       "        vertical-align: top;\n",
       "    }\n",
       "\n",
       "    .dataframe thead th {\n",
       "        text-align: right;\n",
       "    }\n",
       "</style>\n",
       "<table border=\"1\" class=\"dataframe\">\n",
       "  <thead>\n",
       "    <tr style=\"text-align: right;\">\n",
       "      <th></th>\n",
       "      <th>Correct</th>\n",
       "      <th>Probability</th>\n",
       "    </tr>\n",
       "  </thead>\n",
       "  <tbody>\n",
       "    <tr>\n",
       "      <th>0</th>\n",
       "      <td>0</td>\n",
       "      <td>0.014286</td>\n",
       "    </tr>\n",
       "    <tr>\n",
       "      <th>1</th>\n",
       "      <td>1</td>\n",
       "      <td>0.228571</td>\n",
       "    </tr>\n",
       "    <tr>\n",
       "      <th>2</th>\n",
       "      <td>2</td>\n",
       "      <td>0.514286</td>\n",
       "    </tr>\n",
       "    <tr>\n",
       "      <th>3</th>\n",
       "      <td>3</td>\n",
       "      <td>0.228571</td>\n",
       "    </tr>\n",
       "    <tr>\n",
       "      <th>4</th>\n",
       "      <td>4</td>\n",
       "      <td>0.014286</td>\n",
       "    </tr>\n",
       "  </tbody>\n",
       "</table>\n",
       "</div>"
      ],
      "text/plain": [
       "   Correct  Probability\n",
       "0        0     0.014286\n",
       "1        1     0.228571\n",
       "2        2     0.514286\n",
       "3        3     0.228571\n",
       "4        4     0.014286"
      ]
     },
     "execution_count": 42,
     "metadata": {},
     "output_type": "execute_result"
    }
   ],
   "source": [
    "prob_df"
   ]
  },
  {
   "cell_type": "code",
   "execution_count": 54,
   "id": "d6851477",
   "metadata": {},
   "outputs": [
    {
     "data": {
      "image/png": "[encoded data removed]",
      "text/plain": [
       "<Figure size 800x560 with 1 Axes>"
      ]
     },
     "metadata": {},
     "output_type": "display_data"
    }
   ],
   "source": [
    "# Extract the Correct and Probability columns from the dataframe\n",
    "correct = prob_df['Correct']\n",
    "probability = prob_df['Probability']\n",
    "\n",
    "# Set the x-axis values to be the Correct column\n",
    "x_axis = correct\n",
    "\n",
    "# Set the y-axis values to be the Probability column\n",
    "y_axis = probability\n",
    "\n",
    "# Set the labels for the x-axis\n",
    "plt.xticks(x_axis)\n",
    "\n",
    "# Plot the bar chart\n",
    "plt.bar(x_axis, y_axis)\n",
    "\n",
    "# Add labels to the y-axis\n",
    "for a,b in zip(x_axis, y_axis):\n",
    "    # Center the text on the bar\n",
    "    plt.text(a-0.15, b+0.01, str(round(b, 4)))\n",
    "\n",
    "# Add a title to the plot\n",
    "plt.title('Probability of getting 0-4 cups correct')\n",
    "\n",
    "# Add a label to the y-axis\n",
    "plt.ylabel('Probability')\n",
    "\n",
    "# Add a label to the x-axis\n",
    "plt.xlabel('Correct')\n",
    "\n",
    "# Show the plot\n",
    "plt.show()"
   ]
  },
  {
   "cell_type": "markdown",
   "id": "0185c9d9-ffea-410b-a6cb-e43ecd794c38",
   "metadata": {},
   "source": [
    "***\n",
    "<div class=\"admonition note alert alert-info\">\n",
    "<p class=\"first admonition-title\" style=\"font-weight: bold;\">Why is our probability exactly double?</p>\n",
    "\n",
    "As you can see from above, the probability of guessing the four correct cups from eight possible options has the exact same probability as guessing 0 of the correct cups from the eight possible options.<br>\n",
    "This is the reason that the two-sided test has generated a probability exactly double what we had calculated initially.<br>\n",
    "<br>\n",
    "To rectify this, we should stipulate the alternate hypothesis in our <code>Fisher_exact</code> as \"greater\"\n",
    "\n",
    "</div>"
   ]
  },
  {
   "cell_type": "code",
   "execution_count": 18,
   "id": "661ad035-584a-48c4-8cd1-9c14bd476933",
   "metadata": {},
   "outputs": [
    {
     "name": "stdout",
     "output_type": "stream",
     "text": [
      "The probability of correctly identifying the 4 cups where milk was added first is 0.014285714285714268\n"
     ]
    }
   ],
   "source": [
    "# Perform Fisher's Exact Test.\n",
    "oddsratio, pvalue = ss.fisher_exact(results, alternative='greater')\n",
    "print(f'The probability of correctly identifying the 4 cups where milk was added first is {pvalue}')"
   ]
  },
  {
   "cell_type": "markdown",
   "id": "4f773012-5efc-4bc9-b211-9d699c753f0a",
   "metadata": {},
   "source": [
    "<h3 style=\"color: #001a79;\">Exercise 1.3</h3>\n",
    "\n",
    "<hr style=\"border-top: 1px solid #001a79;\" />\n",
    "\n",
    "\n",
    "Take the code from the <a href=\"https://docs.scipy.org/doc/scipy/reference/generated/scipy.stats.ttest_ind.html\" style=\"color: #ff791e\">Examples section of the scipy stats documentation for independent samples t-tests</a>, add it to your own notebook and add explain how it works using MarkDown cells and code comments. Improve it in any way you think it could be improved."
   ]
  },
  {
   "cell_type": "markdown",
   "id": "1c533e82-6bcc-4f20-91ea-3efd9d5e350b",
   "metadata": {},
   "source": [
    "***\n",
    "The first thing we do is to import all the statistics functions from the sub-package <code>stats</code> of the <code>scipy</code> library.<br>\n",
    "We then initialize a Random Generator using <code>numpy</code> and assign it to the variable rng.<br>\n",
    "Numpy's random generator allows us to generate random numbers via many different methods.<br>\n",
    "Interestingly in the \"t-Test Theory and Simulating Errors\" video we were told that replicating and running the example code from <code>scipy.stats.ttest_ind</code> would produce identical output. However this is not the case as the random generator is not seeded. In our working example below I have seeded the <code>np.random.default_rng()</code> by passing a value. Seeding ensures that we will produce repeatable results each time the notebook is run. \n"
   ]
  },
  {
   "cell_type": "code",
   "execution_count": 19,
   "id": "ee0560a3-22f8-4554-a1c3-bb316c171f41",
   "metadata": {},
   "outputs": [],
   "source": [
    "from scipy import stats\n",
    "rng = np.random.default_rng(5)"
   ]
  },
  {
   "cell_type": "markdown",
   "id": "31379294-2cc0-47c5-8a4d-174f54756f03",
   "metadata": {
    "tags": []
   },
   "source": [
    "Next, we declare two different variables: rvs1 and rvs2.<br>\n",
    "rvs1 and rvs2 are arrays which contain random samples from the normal distribution with equal means (5) and equal standard deviations (10). The sample size for both distributions is 500.<br>\n",
    "For both arrays we specify that we are using the <code>numpy.random.default_rng()</code> seeded generator."
   ]
  },
  {
   "cell_type": "code",
   "execution_count": 20,
   "id": "23c2b935-93a1-4476-a7c7-3aa42b1c2d14",
   "metadata": {},
   "outputs": [],
   "source": [
    "rvs1 = stats.norm.rvs(loc=5, scale=10, size=500, random_state=rng)\n",
    "rvs2 = stats.norm.rvs(loc=5, scale=10, size=500, random_state=rng)"
   ]
  },
  {
   "cell_type": "markdown",
   "id": "d6838fd0-c348-4920-9534-036e44e9a737",
   "metadata": {},
   "source": [
    "***\n",
    "Reviewing the two distributions we see that they are similar (but not identical) in mean and standard deviation."
   ]
  },
  {
   "cell_type": "code",
   "execution_count": 21,
   "id": "a3df437d-e036-4fb1-a684-d2bb4c1fe59e",
   "metadata": {},
   "outputs": [
    {
     "data": {
      "image/png": "[encoded data removed]",
      "text/plain": [
       "<Figure size 800x560 with 1 Axes>"
      ]
     },
     "metadata": {},
     "output_type": "display_data"
    }
   ],
   "source": [
    "# Review Distributions of rvs1 and rvs2 in plot form\n",
    "kwargs = dict(bins=20, density=True, stacked=True)\n",
    "plt.hist(rvs1, **kwargs, color='g', label='rvs1', histtype='step')\n",
    "plt.hist(rvs2, **kwargs, color='b', label='rvs2', histtype='step')\n",
    "plt.legend()\n",
    "plt.show()"
   ]
  },
  {
   "cell_type": "markdown",
   "id": "dacc45cf-f477-4aaa-91d5-3fb954aad7e3",
   "metadata": {},
   "source": [
    "***\n",
    "Indeed we can directly calculate the mean and standard deviation for both rvs1 and rvs2 using <code>numpy</code>"
   ]
  },
  {
   "cell_type": "code",
   "execution_count": 22,
   "id": "cc1da932-a9d1-4582-95f6-6a363874b216",
   "metadata": {},
   "outputs": [
    {
     "name": "stdout",
     "output_type": "stream",
     "text": [
      "Mean of rvs1 = 5.01306523542458. Standard Deviation of rvs1 = 9.588925933469392\n",
      "Mean of rvs2 = 5.024211696573093. Standard Deviation of rvs2 = 10.275936690719533\n"
     ]
    }
   ],
   "source": [
    "rvs1_mean, rvs1_std = np.mean(rvs1), np.std(rvs1)\n",
    "rvs2_mean, rvs2_std = np.mean(rvs2), np.std(rvs2)\n",
    "\n",
    "print(f'Mean of rvs1 = {rvs1_mean}. Standard Deviation of rvs1 = {rvs1_std}')\n",
    "print(f'Mean of rvs2 = {rvs2_mean}. Standard Deviation of rvs2 = {rvs2_std}')"
   ]
  },
  {
   "cell_type": "markdown",
   "id": "fb93fae0-fcc8-44d8-8aec-774571a1a0e5",
   "metadata": {},
   "source": [
    "***\n",
    "Now we are going to calculate the T-test for the means of our two independent samples (rvs1 and rvs2.)<br>\n",
    "In our first test we use the default value for equal_var which means we are assuming equal population variances.<br>\n",
    "In the second test we stipulate <code>equal_var=False</code> which assumes unequal population variances.<br>\n",
    "When we assume that the population variances are **not** equal, a Welch's t-test is perfromed instead of a Student's t-test.<br>\n",
    "Wikipedia states:\n",
    ">Welch's t-test is more robust than Student's t-test and maintains type I error rates close to nominal for unequal variances and for unequal sample sizes under normality. Furthermore, the power of Welch's t-test comes close to that of Student's t-test, even when the population variances are equal and sample sizes are balanced.[2] Welch's t-test can be generalized to more than 2-samples,[7] which is more robust than one-way analysis of variance (ANOVA).\n",
    "\n",
    ">It is not recommended to pre-test for equal variances and then choose between Student's t-test or Welch's t-test.[8] Rather, Welch's t-test can be applied directly and without any substantial disadvantages to Student's t-test as noted above. Welch's t-test remains robust for skewed distributions and large sample sizes.[9] Reliability decreases for skewed distributions and smaller samples, where one could possibly perform Welch's t-test.[10] <br>\n",
    "\n",
    "Indeed, when we compare the results obtained from the Student's t-test and the Welch's t-test we can see that the values for the t-statistic and p-value are almost identical when the sample mean and standard deviation are similar.\n"
   ]
  },
  {
   "cell_type": "code",
   "execution_count": 23,
   "id": "09463076-002f-4e1d-b92a-96c01973b9ac",
   "metadata": {},
   "outputs": [
    {
     "name": "stdout",
     "output_type": "stream",
     "text": [
      "t-statistic using equal variances = -0.017715652120147647. t-statistic using unequal variances = -0.017715652120147644\n",
      "p-value using equal variances = 0.985869234975588. p-value using unequal variances = 0.9858692518738941\n"
     ]
    }
   ],
   "source": [
    "t_ss_equal, p_ss_equal = stats.ttest_ind(rvs1, rvs2)\n",
    "t_ss_unequal, p_ss_unequal = stats.ttest_ind(rvs1, rvs2, equal_var=False)\n",
    "print(f't-statistic using equal variances = {t_ss_equal}. t-statistic using unequal variances = {t_ss_unequal}')\n",
    "print(f'p-value using equal variances = {p_ss_equal}. p-value using unequal variances = {p_ss_unequal}')"
   ]
  },
  {
   "cell_type": "markdown",
   "id": "3d56d833-06ae-40e0-8b48-2126ab4a8140",
   "metadata": {},
   "source": [
    "***\n",
    "Next we are going to evaluate the Student's t-test and Welch's t-test when we have a sample distribution with different standard deviation.<br>\n",
    "We create a new array with mean = 5 and standard deviation = 20 and perform both tests."
   ]
  },
  {
   "cell_type": "code",
   "execution_count": 24,
   "id": "195f598e-abf5-40a2-8ecf-85d46bcd85a4",
   "metadata": {},
   "outputs": [],
   "source": [
    "rvs3 = stats.norm.rvs(loc=5, scale=20, size=500, random_state=rng)"
   ]
  },
  {
   "cell_type": "markdown",
   "id": "8fdad1cd-5886-4baf-b9b7-76878057a109",
   "metadata": {},
   "source": [
    "***\n",
    "Let's review the distributions of both rvs1 (mean = 5, standard deviation = 10) and rvs3 (mean = 5 and standard deviation = 10).\n",
    "We can clearly see the larger standard deviation that rvs3 has (wider distribution)."
   ]
  },
  {
   "cell_type": "code",
   "execution_count": 25,
   "id": "5693a51f-f8d7-436b-a523-5a229069203e",
   "metadata": {},
   "outputs": [
    {
     "data": {
      "image/png": "[encoded data removed]",
      "text/plain": [
       "<Figure size 800x560 with 1 Axes>"
      ]
     },
     "metadata": {},
     "output_type": "display_data"
    }
   ],
   "source": [
    "# Review Distributions of rvs1 and rvs3 in plot form\n",
    "plt.hist(rvs1, **kwargs, color='g', label='rvs1', histtype='step')\n",
    "plt.hist(rvs3, **kwargs, color='b', label='rvs3', histtype='step')\n",
    "plt.legend()\n",
    "plt.show()"
   ]
  },
  {
   "cell_type": "markdown",
   "id": "db42bf59-fcd3-4625-9a01-28ed7b9f192e",
   "metadata": {},
   "source": [
    "***\n",
    "Again we call the <code>stats.ttest_ind</code> test using both the Student's t-test and Welch's t-test.<br>\n",
    "This time we can see that there is a slightly greater difference in the p-values calculated with the Student's t-test underestimating the p-value.<br>\n",
    "The t-statistic remains the same using either test."
   ]
  },
  {
   "cell_type": "code",
   "execution_count": 26,
   "id": "6a48045a-bfdd-43cd-8baa-acfa1240179e",
   "metadata": {},
   "outputs": [
    {
     "name": "stdout",
     "output_type": "stream",
     "text": [
      "t-statistic using equal variances = -1.124002966660949. t-statistic using unequal variances = -1.124002966660949\n",
      "p-value using equal variances = 0.2612820506950921. p-value using unequal variances = 0.2613752873676511\n"
     ]
    }
   ],
   "source": [
    "t_ss_equal, p_ss_equal = stats.ttest_ind(rvs1, rvs3)\n",
    "t_ss_unequal, p_ss_unequal = stats.ttest_ind(rvs1, rvs3, equal_var=False)\n",
    "print(f't-statistic using equal variances = {t_ss_equal}. t-statistic using unequal variances = {t_ss_unequal}')\n",
    "print(f'p-value using equal variances = {p_ss_equal}. p-value using unequal variances = {p_ss_unequal}')"
   ]
  },
  {
   "cell_type": "markdown",
   "id": "5c15b3f0-5b06-4c25-b344-8b92b8359428",
   "metadata": {},
   "source": [
    "***\n",
    "What if we have have different sample sizes?<br>\n",
    "We create a new array with the same mean (5), larger standard deviation (20) and smaller sample size (100) and compare the distributions of rvs1 and rvs4.<br>\n"
   ]
  },
  {
   "cell_type": "code",
   "execution_count": 27,
   "id": "d0e4e9b3-5e8f-47ab-96d1-2ad7e644f56c",
   "metadata": {},
   "outputs": [],
   "source": [
    "rvs4 = stats.norm.rvs(loc=8, scale=20, size=100, random_state=rng)"
   ]
  },
  {
   "cell_type": "code",
   "execution_count": 28,
   "id": "0f93b661-9dc3-4141-9486-7247f2a04364",
   "metadata": {},
   "outputs": [
    {
     "data": {
      "image/png": "[encoded data removed]",
      "text/plain": [
       "<Figure size 800x560 with 1 Axes>"
      ]
     },
     "metadata": {},
     "output_type": "display_data"
    }
   ],
   "source": [
    "# Review Distributions of rvs1 and rvs4 in plot form\n",
    "plt.hist(rvs1, **kwargs, color='g', label='rvs1', histtype='step')\n",
    "plt.hist(rvs4, **kwargs, color='b', label='rvs4', histtype='step')\n",
    "plt.legend()\n",
    "plt.show()"
   ]
  },
  {
   "cell_type": "markdown",
   "id": "ba88d100-10a0-4c1a-a4dd-31bcf5a56c9a",
   "metadata": {},
   "source": [
    "***\n",
    "Then we call the <code>stats.ttest_ind</code> test using both the Student's t-test and Welch's t-test.<br>\n",
    "Again we see that the p-value is underestimated using the Student's t-test compared to the Welch's t-test but, this time we also see disparity in the t-statistic.<br>\n",
    "**This is an important point as it could result in a higher type I error rate if we used the Student's t-test with unequal variances / unequal samples sizes.**"
   ]
  },
  {
   "cell_type": "code",
   "execution_count": 29,
   "id": "c5f2db76-ba83-40e1-b566-7de08d23278e",
   "metadata": {},
   "outputs": [
    {
     "name": "stdout",
     "output_type": "stream",
     "text": [
      "t-statistic using equal variances = -1.4015411832950195. t-statistic using unequal variances = -0.8752484803397486\n",
      "p-value using equal variances = 0.1615710877814086. p-value using unequal variances = 0.38339302684344967\n"
     ]
    }
   ],
   "source": [
    "t_ss_equal, p_ss_equal = stats.ttest_ind(rvs1, rvs4)\n",
    "t_ss_unequal, p_ss_unequal = stats.ttest_ind(rvs1, rvs4, equal_var=False)\n",
    "print(f't-statistic using equal variances = {t_ss_equal}. t-statistic using unequal variances = {t_ss_unequal}')\n",
    "print(f'p-value using equal variances = {p_ss_equal}. p-value using unequal variances = {p_ss_unequal}')"
   ]
  },
  {
   "cell_type": "markdown",
   "id": "6e1ad20f-1870-4ae9-b4f3-258803e28d8e",
   "metadata": {},
   "source": [
    "***\n",
    "Let's create a final array with different mean, standard deviation and sample size (rvs5) and compare the distributions."
   ]
  },
  {
   "cell_type": "code",
   "execution_count": 30,
   "id": "f11befaa-487e-4102-af11-a7606effa6c5",
   "metadata": {},
   "outputs": [],
   "source": [
    "rvs5 = stats.norm.rvs(loc=8, scale=20, size=100, random_state=rng)"
   ]
  },
  {
   "cell_type": "code",
   "execution_count": 31,
   "id": "e49a9b7a-ae16-463a-baba-43ca6908852b",
   "metadata": {},
   "outputs": [
    {
     "data": {
      "image/png": "[encoded data removed]",
      "text/plain": [
       "<Figure size 800x560 with 1 Axes>"
      ]
     },
     "metadata": {},
     "output_type": "display_data"
    }
   ],
   "source": [
    "# Review Distributions of rvs1 and rvs5 in plot form\n",
    "plt.figure(figsize=(10,7), dpi= 80)\n",
    "plt.hist(rvs1, **kwargs, color='g', label='rvs1', histtype='step')\n",
    "plt.hist(rvs5, **kwargs, color='b', label='rvs5', histtype='step')\n",
    "plt.legend()\n",
    "plt.show()"
   ]
  },
  {
   "cell_type": "markdown",
   "id": "a181b44a-91b6-4164-9cc5-cb5bbba7cb81",
   "metadata": {},
   "source": [
    "***\n",
    "Again we call the <code>stats.ttest_ind</code> test using both the Student's t-test and Welch's t-test.<br>\n",
    "We see that the p-value is lower using the Student's t-test compared to the Welch's t-test and t-statistic is significantly different.<br>"
   ]
  },
  {
   "cell_type": "code",
   "execution_count": 32,
   "id": "427936ca-2492-434b-b726-ceeb431ae370",
   "metadata": {},
   "outputs": [
    {
     "name": "stdout",
     "output_type": "stream",
     "text": [
      "t-statistic using equal variances = -5.018138234612228. t-statistic using unequal variances = -3.2952656095336863\n",
      "p-value using equal variances = 6.890913539793267e-07. p-value using unequal variances = 0.0013262831254101373\n"
     ]
    }
   ],
   "source": [
    "t_ss_equal, p_ss_equal = stats.ttest_ind(rvs1, rvs5)\n",
    "t_ss_unequal, p_ss_unequal = stats.ttest_ind(rvs1, rvs5, equal_var=False)\n",
    "print(f't-statistic using equal variances = {t_ss_equal}. t-statistic using unequal variances = {t_ss_unequal}')\n",
    "print(f'p-value using equal variances = {p_ss_equal}. p-value using unequal variances = {p_ss_unequal}')"
   ]
  },
  {
   "cell_type": "markdown",
   "id": "6078e8a6-2e6f-4db6-a584-db6bd465dedb",
   "metadata": {},
   "source": [
    "***\n",
    "The <code>permutations</code> parameter in <code>stats.ttest_ind</code> reportedly yields more accurate results. When we specify a <code>permutations</code> value the p-value is based on an empirical bootstrap distribution of potential test statistics rather than a single estimate of variance.<br>\n",
    "> To get a p-value, we randomly sample (without replacement) possible permutations of our variable of interest. The p-value is the proportion of samples that have a test statistic larger than that of our observed data.\n",
    "\n",
    "In the below example we will specify 10000 permutations - i.e we will run the Student's t-test 10000 times to more accurately calculate the p-value."
   ]
  },
  {
   "cell_type": "code",
   "execution_count": 33,
   "id": "db915cd0-2854-4d4f-973d-443569b13b7a",
   "metadata": {},
   "outputs": [],
   "source": [
    "t_ss_equal, p_ss_equal = stats.ttest_ind(rvs1, rvs5, permutations=10000, random_state=rng)"
   ]
  },
  {
   "cell_type": "code",
   "execution_count": 34,
   "id": "0184be98-4e7d-46ab-ad08-766646416536",
   "metadata": {},
   "outputs": [
    {
     "name": "stdout",
     "output_type": "stream",
     "text": [
      "t-statistic using permutations = -5.018138234612228. p-value using permutations = 0.0\n"
     ]
    }
   ],
   "source": [
    "print(f't-statistic using permutations = {t_ss_equal}. p-value using permutations = {p_ss_equal}')"
   ]
  },
  {
   "cell_type": "markdown",
   "id": "ea818a49-942a-4906-8106-2c339a7c6bd7",
   "metadata": {},
   "source": [
    "***\n",
    "When we are dealing with normally distributed independent samples of equal variance we have seen that the Student's t-test is easy to run and interpret. When we have unequal variance we can rely on the Welch's t-test which is described as being \"more robust\". However, both tests (and particularly the Student's t-test) are sensitive to outliers in the sample data sets. If outliers are not removed we can expect to see deterioration of type I error rates.<br>\n",
    "Let us create two new arrays rvs6 and rvs7 with significantly different means (rvs6 = 2, rvs7 = 6) and identical standard deviations."
   ]
  },
  {
   "cell_type": "code",
   "execution_count": 35,
   "id": "f6e25b3d-4bf1-4176-838d-aff101bb8b61",
   "metadata": {},
   "outputs": [],
   "source": [
    "rvs6 = stats.norm.rvs(loc=2, scale=5, size=60, random_state=rng)\n",
    "rvs7 = stats.norm.rvs(loc=6, scale=5, size=60, random_state=rng)"
   ]
  },
  {
   "cell_type": "markdown",
   "id": "f42fbbf2-9c9d-4eba-b4e5-029372627d9c",
   "metadata": {},
   "source": [
    "Now we are going to add one outlier to the rvs6 array."
   ]
  },
  {
   "cell_type": "code",
   "execution_count": 36,
   "id": "96d81549-6aa6-4c77-9c5c-f360e7af4d3e",
   "metadata": {},
   "outputs": [],
   "source": [
    "rvs6_outliers = np.append(rvs6, [100])"
   ]
  },
  {
   "cell_type": "markdown",
   "id": "31f8f4ce-6c84-46b5-8f98-a9da900c0e38",
   "metadata": {},
   "source": [
    "***\n",
    "Plotting the distributions shows us that there is a significant difference however, due to the outlier in the rvs6_outlier array, the means are actually similar."
   ]
  },
  {
   "cell_type": "code",
   "execution_count": 37,
   "id": "89dd450d-ab69-41e4-b361-27f96ba7bc66",
   "metadata": {},
   "outputs": [
    {
     "data": {
      "image/png": "[encoded data removed]",
      "text/plain": [
       "<Figure size 800x560 with 1 Axes>"
      ]
     },
     "metadata": {},
     "output_type": "display_data"
    }
   ],
   "source": [
    "# Review Distributions of rvs1_outliers and rvs2 in plot form\n",
    "kwargs = dict(bins=20, density=True, stacked=True)\n",
    "plt.hist(rvs6_outliers, **kwargs, color='g', label='rvs6_outliers', histtype='step')\n",
    "plt.hist(rvs7, **kwargs, color='b', label='rvs7', histtype='step')\n",
    "plt.legend()\n",
    "plt.show()"
   ]
  },
  {
   "cell_type": "code",
   "execution_count": 38,
   "id": "5e6a2c5e-8ad6-4845-9a24-c41ca50ee5f6",
   "metadata": {},
   "outputs": [
    {
     "name": "stdout",
     "output_type": "stream",
     "text": [
      "Mean of rvs6_outliers = 3.821837435713573. Standard Deviation of rvs6_outliers = 13.606943123371002\n",
      "Mean of rvs7 = 5.024211696573093. Standard Deviation of rvs7 = 10.275936690719533\n"
     ]
    }
   ],
   "source": [
    "rvs6_outliers_mean, rvs6_outliers_std = np.mean(rvs6_outliers), np.std(rvs6_outliers)\n",
    "rvs7_mean, rvs7_std = np.mean(rvs2), np.std(rvs2)\n",
    "\n",
    "print(f'Mean of rvs6_outliers = {rvs6_outliers_mean}. Standard Deviation of rvs6_outliers = {rvs6_outliers_std}')\n",
    "print(f'Mean of rvs7 = {rvs7_mean}. Standard Deviation of rvs7 = {rvs7_std}')"
   ]
  },
  {
   "cell_type": "markdown",
   "id": "3b182148-8b8e-4ebb-9407-1680acd308bc",
   "metadata": {},
   "source": [
    "***\n",
    "When we perform the t-tests using both Student's t-test and Welch's t-test we see that the p-value is > 0.05 indicating that we fail to reject the null hypothesis. Based on this, the samples have the same averages."
   ]
  },
  {
   "cell_type": "code",
   "execution_count": 39,
   "id": "4ed8e73f-6f2c-44f8-ac9a-ebd00f29877e",
   "metadata": {},
   "outputs": [
    {
     "name": "stdout",
     "output_type": "stream",
     "text": [
      "t-statistic using equal variances = -1.6117294913354396. t-statistic using unequal variances = -1.6225209375576874\n",
      "p-value using equal variances = 0.1096699834559349. p-value using unequal variances = 0.10898463733272255\n"
     ]
    }
   ],
   "source": [
    "t_ss_equal, p_ss_equal = stats.ttest_ind(rvs6_outliers, rvs7)\n",
    "t_ss_unequal, p_ss_unequal = stats.ttest_ind(rvs6_outliers, rvs7, equal_var=False)\n",
    "print(f't-statistic using equal variances = {t_ss_equal}. t-statistic using unequal variances = {t_ss_unequal}')\n",
    "print(f'p-value using equal variances = {p_ss_equal}. p-value using unequal variances = {p_ss_unequal}')"
   ]
  },
  {
   "cell_type": "markdown",
   "id": "c188064d-52a8-4544-a9e9-2e27c96ef4a9",
   "metadata": {},
   "source": [
    "***\n",
    "Fortunately, <code>scipy.stats.ttest_ind</code> provides the <code>trim</code> parameter that, when passed, will trim a percentage of outliers from the tails of the sample distributions.<br>\n",
    "Performing the <code>scipy.stats.ttest_ind</code> and trimming just 2% of the tails of our previously created samples results in a significantly different t-statistic and p-value showing that there is indeed a difference in the means of the two.\n"
   ]
  },
  {
   "cell_type": "code",
   "execution_count": 40,
   "id": "a9c8fd01-4a19-4895-9313-ddd2b4dd69af",
   "metadata": {},
   "outputs": [
    {
     "data": {
      "text/plain": [
       "Ttest_indResult(statistic=-4.497999344905699, pvalue=1.648895451328309e-05)"
      ]
     },
     "execution_count": 40,
     "metadata": {},
     "output_type": "execute_result"
    }
   ],
   "source": [
    "stats.ttest_ind(rvs6_outliers, rvs7, trim=.02)"
   ]
  },
  {
   "cell_type": "markdown",
   "id": "2b6b7af6-b9e5-4133-b5cf-f7f7539ffb6d",
   "metadata": {},
   "source": [
    "***\n",
    "### End of Notebook"
   ]
  }
 ],
 "metadata": {
  "kernelspec": {
   "display_name": "base",
   "language": "python",
   "name": "python3"
  },
  "language_info": {
   "codemirror_mode": {
    "name": "ipython",
    "version": 3
   },
   "file_extension": ".py",
   "mimetype": "text/x-python",
   "name": "python",
   "nbconvert_exporter": "python",
   "pygments_lexer": "ipython3",
   "version": "3.9.7"
  },
  "vscode": {
   "interpreter": {
    "hash": "565c9bfc810bd44326f45bdc3aa4b097d8be5bf44b7165ee1e379f106e720594"
   }
  }
 },
 "nbformat": 4,
 "nbformat_minor": 5
}
